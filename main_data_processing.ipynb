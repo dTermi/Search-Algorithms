{
 "cells": [
  {
   "cell_type": "code",
   "execution_count": 1,
   "id": "03239a51-cf18-4f8c-85ab-1d4596f7c9ba",
   "metadata": {
    "id": "03239a51-cf18-4f8c-85ab-1d4596f7c9ba"
   },
   "outputs": [],
   "source": [
    "import pandas as pd\n",
    "import numpy as np\n",
    "import networkx as nx\n",
    "import matplotlib.pyplot as plt\n",
    "from collections import defaultdict\n",
    "from collections import deque\n",
    "from operator import itemgetter"
   ]
  },
  {
   "cell_type": "code",
   "execution_count": 2,
   "id": "a83353c8-84d0-4a34-a668-c50a7c243748",
   "metadata": {
    "colab": {
     "base_uri": "https://localhost:8080/",
     "height": 206
    },
    "id": "a83353c8-84d0-4a34-a668-c50a7c243748",
    "outputId": "e0691865-32fc-4a7f-d500-2a5ef36c8bd9"
   },
   "outputs": [
    {
     "data": {
      "text/html": [
       "<div>\n",
       "<style scoped>\n",
       "    .dataframe tbody tr th:only-of-type {\n",
       "        vertical-align: middle;\n",
       "    }\n",
       "\n",
       "    .dataframe tbody tr th {\n",
       "        vertical-align: top;\n",
       "    }\n",
       "\n",
       "    .dataframe thead th {\n",
       "        text-align: right;\n",
       "    }\n",
       "</style>\n",
       "<table border=\"1\" class=\"dataframe\">\n",
       "  <thead>\n",
       "    <tr style=\"text-align: right;\">\n",
       "      <th></th>\n",
       "      <th>0</th>\n",
       "      <th>1</th>\n",
       "      <th>2</th>\n",
       "      <th>3</th>\n",
       "      <th>4</th>\n",
       "      <th>5</th>\n",
       "    </tr>\n",
       "  </thead>\n",
       "  <tbody>\n",
       "    <tr>\n",
       "      <th>0</th>\n",
       "      <td>Harrow &amp; Wealdstone</td>\n",
       "      <td>Kenton</td>\n",
       "      <td>Bakerloo</td>\n",
       "      <td>3</td>\n",
       "      <td>5</td>\n",
       "      <td>0</td>\n",
       "    </tr>\n",
       "    <tr>\n",
       "      <th>1</th>\n",
       "      <td>Kenton</td>\n",
       "      <td>South Kenton</td>\n",
       "      <td>Bakerloo</td>\n",
       "      <td>2</td>\n",
       "      <td>4</td>\n",
       "      <td>0</td>\n",
       "    </tr>\n",
       "    <tr>\n",
       "      <th>2</th>\n",
       "      <td>South Kenton</td>\n",
       "      <td>North Wembley</td>\n",
       "      <td>Bakerloo</td>\n",
       "      <td>2</td>\n",
       "      <td>4</td>\n",
       "      <td>0</td>\n",
       "    </tr>\n",
       "    <tr>\n",
       "      <th>3</th>\n",
       "      <td>North Wembley</td>\n",
       "      <td>Wembley Central</td>\n",
       "      <td>Bakerloo</td>\n",
       "      <td>2</td>\n",
       "      <td>4</td>\n",
       "      <td>0</td>\n",
       "    </tr>\n",
       "    <tr>\n",
       "      <th>4</th>\n",
       "      <td>Wembley Central</td>\n",
       "      <td>Stonebridge Park</td>\n",
       "      <td>Bakerloo</td>\n",
       "      <td>3</td>\n",
       "      <td>4</td>\n",
       "      <td>0</td>\n",
       "    </tr>\n",
       "  </tbody>\n",
       "</table>\n",
       "</div>"
      ],
      "text/plain": [
       "                     0                 1         2  3  4  5\n",
       "0  Harrow & Wealdstone            Kenton  Bakerloo  3  5  0\n",
       "1               Kenton      South Kenton  Bakerloo  2  4  0\n",
       "2         South Kenton     North Wembley  Bakerloo  2  4  0\n",
       "3        North Wembley   Wembley Central  Bakerloo  2  4  0\n",
       "4      Wembley Central  Stonebridge Park  Bakerloo  3  4  0"
      ]
     },
     "execution_count": 2,
     "metadata": {},
     "output_type": "execute_result"
    }
   ],
   "source": [
    "df = pd.read_csv('tubedata.csv', header=None)\n",
    "df.head()\n",
    "# Start Station | End Station | Tube Line | Avg. Time Taken | Main Zone | Secondary Zone"
   ]
  },
  {
   "cell_type": "markdown",
   "id": "5NzPWe2o_r5I",
   "metadata": {
    "id": "5NzPWe2o_r5I"
   },
   "source": [
    "# Declaring the Dictionaries"
   ]
  },
  {
   "cell_type": "code",
   "execution_count": 3,
   "id": "f9d4dedc-0b80-4b64-8ad4-6737d645e9f0",
   "metadata": {
    "id": "f9d4dedc-0b80-4b64-8ad4-6737d645e9f0"
   },
   "outputs": [],
   "source": [
    "'''\n",
    "I HAVE TAKEN THIS CODE FROM THE COURSEWORK 1 UNDIRECTED_MAP.PY FILE\n",
    "\n",
    "A dictionary where the values for each key are stored as lists.\n",
    "Here, the key is the station name and the values are all the stations the tube lines go from the key station, the \n",
    "time taken to reach this station and the tube line needed to get there.\n",
    "'''\n",
    "station_dict = defaultdict(list)\n",
    "\n",
    "'''\n",
    "A dictionary where the values for each key are stored as lists.\n",
    "Here, the key is the station name and the values are all the zones the station is in.\n",
    "'''\n",
    "zone_dict = defaultdict(set) # a dictionary where the values for each key are stored as sets\n",
    "\n",
    "'''\n",
    "A dictionary where we will store values for each zone as the zones are alphanumeric. So, the heuristic that I \n",
    "have considered cannot give me the difference between a character and number. So, I am assigning each zone a specific value \n",
    "which is a multiple of 10\n",
    "'''\n",
    "heu_dict = {} # a dictionary where the values for each zone are stored"
   ]
  },
  {
   "cell_type": "code",
   "execution_count": 4,
   "id": "bb2bf448-67aa-406b-ab37-8947a1e8a60a",
   "metadata": {
    "colab": {
     "base_uri": "https://localhost:8080/"
    },
    "id": "bb2bf448-67aa-406b-ab37-8947a1e8a60a",
    "outputId": "4125c344-7a32-4a42-fda6-bf0fb082cd75"
   },
   "outputs": [],
   "source": [
    "'''\n",
    "I HAVE TAKEN THIS CODE FROM THE COURSEWORK 1 UNDIRECTED_MAP.PY FILE\n",
    "\n",
    "Run only once for optimal output as each time you run this cell, a new entry for all the stations and zones\n",
    "gets added to the default dict and this can mess up the result.\n",
    "'''\n",
    "\n",
    "list_heu = ['1', '2', '3', '4', '5', '6', 'a', 'b', 'c', 'd']\n",
    "\n",
    "'''\n",
    "Iterate through the list list_heu and assign each zone a numeric value which is a multiple of 10.\n",
    "So, zone 1 will have value 10, zone 2 will have value 20 ... zone d will have value 100\n",
    "This will be a dictionary with values like {'1':10, '2':20, ..., 'd':100}\n",
    "'''\n",
    "for ind, elem in enumerate(list_heu):\n",
    "    heu_dict[elem] = 10* (ind + 1)\n",
    "\n",
    "'''\n",
    "Create the Station and Zone Dictionaries.\n",
    "\n",
    "The Station dictionary is a default dictionary of lists where we are storing the data in the form:\n",
    "{'key':list[tuples]}\n",
    "{'start_station':[('end_station', avg_time, 'tube line'), ('end_station', avg_time, 'tube line')]}\n",
    "'''\n",
    "for index, row in df.iterrows(): # iterrows() is a method provided by pandas to iterate over the rows of the DataFrame.\n",
    "\n",
    "    start_station = row[0]\n",
    "    end_station = row[1]\n",
    "    tube_line = row[2]\n",
    "    act_cost = int(row[3])\n",
    "\n",
    "    zone1 = row[4]\n",
    "    zone2 = row[5]\n",
    "\n",
    "    # station dictionary of child station tuples (child_name, cost from parent to the child)\n",
    "    # {\"Mile End\": [(\"Stepney Green\", 2), (\"Wembley\", 1)]}\n",
    "    station_list = station_dict[start_station]\n",
    "    station_list.append((end_station, act_cost, tube_line))\n",
    "\n",
    "    station_list = station_dict[end_station]\n",
    "    station_list.append((start_station, act_cost, tube_line))\n",
    "\n",
    "    zone_dict[start_station].add(zone1)\n",
    "    if zone2 != \"0\":\n",
    "        zone_dict[start_station].add(zone2)\n",
    "        # if the secondary zone is not 0 it's the main zone for the ending station\n",
    "        zone_dict[end_station].add(zone2)\n",
    "    else:\n",
    "        # otherwise the main zone for the ending station is the same as for the starting station\n",
    "        zone_dict[end_station].add(zone1)\n",
    "\n",
    "# print(zone_dict)\n",
    "\n",
    "test_paths = [\n",
    "    ('Euston', 'Victoria'),\n",
    "    ('Canada Water', 'Stratford'),\n",
    "    ('New Cross Gate', 'Stepney Green'),\n",
    "    ('Ealing Broadway', 'South Kensington'),\n",
    "    ('Baker Street', 'Wembley Park')\n",
    "]"
   ]
  },
  {
   "cell_type": "code",
   "execution_count": 5,
   "id": "c68d5da8-7dce-4200-ad07-cf8c5b3a5b60",
   "metadata": {},
   "outputs": [],
   "source": [
    "'''\n",
    "I HAVE TAKEN THIS CODE FROM THE LAB 2 SOLUTION FROM THE FUNCTION \"def construct_path_from_root(node, root):\" UNDER THE HEADING Solution DFS -- variation 1\n",
    "\n",
    "We call this function every time we want to calculate the path taken by the tube from the start to end station\n",
    "\n",
    "'node' will have the solution (the path taken) by the tube in the following format for Depth First Search,\n",
    "Breadth First Search and Uniform Cost Search without Line Change Implementation:\n",
    "{'label':initial, 'parent':None, 'cost':0, 'line':None}\n",
    "'''\n",
    "def construct_path_from_root(node, root):\n",
    "    # Assign the first station to the path_from_root list\n",
    "    path_from_root = [node['label']]\n",
    "    # Assign the first cost to the cost_from_root variable\n",
    "    cost_from_root = node['cost']\n",
    "    # Run the loop until node['parent'] is False\n",
    "    while node['parent']:\n",
    "        node = node['parent']\n",
    "        # Append the next station in the solution to the path_from_root list\n",
    "        path_from_root = [node['label']] + path_from_root\n",
    "        # Add the cost of the next station to the cost_from_root\n",
    "        cost_from_root = node['cost'] + cost_from_root\n",
    "\n",
    "    return path_from_root, cost_from_root"
   ]
  }
 ],
 "metadata": {
  "colab": {
   "provenance": []
  },
  "kernelspec": {
   "display_name": "Python 3 (ipykernel)",
   "language": "python",
   "name": "python3"
  },
  "language_info": {
   "codemirror_mode": {
    "name": "ipython",
    "version": 3
   },
   "file_extension": ".py",
   "mimetype": "text/x-python",
   "name": "python",
   "nbconvert_exporter": "python",
   "pygments_lexer": "ipython3",
   "version": "3.8.10"
  }
 },
 "nbformat": 4,
 "nbformat_minor": 5
}
